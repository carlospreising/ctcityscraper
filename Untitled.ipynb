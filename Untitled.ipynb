{
 "cells": [
  {
   "cell_type": "code",
   "execution_count": 1,
   "id": "cc5e8f7e-e410-4516-ab4e-3c41a544c5c0",
   "metadata": {},
   "outputs": [],
   "source": [
    "from schema.property import Property\n",
    "import pandas as pd"
   ]
  },
  {
   "cell_type": "code",
   "execution_count": 2,
   "id": "aa786231-c5b2-4abe-8336-4c2c777e7b5e",
   "metadata": {},
   "outputs": [],
   "source": [
    "new_haven_url = \"https://gis.vgsi.com/NewHavenCT\""
   ]
  },
  {
   "cell_type": "code",
   "execution_count": null,
   "id": "54c0f6fa-385d-4830-92fb-45647215e284",
   "metadata": {},
   "outputs": [],
   "source": []
  },
  {
   "cell_type": "code",
   "execution_count": 3,
   "id": "b5ffcd05-a574-4cd7-bf41-633f4a0c907f",
   "metadata": {},
   "outputs": [
    {
     "name": "stdout",
     "output_type": "stream",
     "text": [
      "['015 0876 00100', 'New Haven, CT', '25 TOWNSEND AV', 'VPS REALTY LLC', '984 ROUTE 9 SUITE A9 PARLIN, NJ 08859', '', '$370,000', '11/29/2001', '5988/0153', '22', '$308,210', '$440,300', '1', 'STORE/SHOP  MDL-94', 'No', 'BA', 'U', '0.44', '0', '0', '$81,620', '$116,600']\n",
      "column: account_number\n",
      "column: town_name\n",
      "column: address\n",
      "column: owner\n",
      "column: owner_address\n",
      "column: co_owner\n",
      "column: sale_price\n",
      "column: sale_date\n",
      "column: book_page\n",
      "column: label_instrument\n",
      "column: assesment_value\n",
      "column: appraisal_value\n",
      "column: building_count\n",
      "column: building_use\n",
      "column: land_alt_approved\n",
      "column: land_zone\n",
      "column: land_neighborhood_code\n",
      "column: land_size_acres\n",
      "column: land_frontage\n",
      "column: land_depth\n",
      "column: land_assessed_value\n",
      "column: land_appraised_value\n",
      "[]\n",
      "['vps realty llc', '$370,000', '', '5988/0153', '22', '11/29/2001']\n",
      "column: owner\n",
      "column: sale_price\n",
      "column: certificate\n",
      "column: book_page\n",
      "column: instrument\n",
      "column: sale_date\n",
      "['russell hanon w', '$180,000', '', '3468/0240', '', '06/04/1986']\n",
      "column: owner\n",
      "column: sale_price\n",
      "column: certificate\n",
      "column: book_page\n",
      "column: instrument\n",
      "column: sale_date\n",
      "['1976', '2,784', '$451,248', '65', '$293,300', 'retail<10th sf', 'commercial', 'above average', '1', '1.00', 'concr/cinder', 'stone', 'gable/hip', 'asphalt', 'drywall/plaste', '', 'ceram clay til', '', 'oil/gas', 'fa/hw/st', 'central', '', 'store/shop  mdl-94', '', '00', '0', '', '3220', 'heat/ac split', 'masonry', 'average', 'sus-ceil & wl', 'average', '12.00', '']\n",
      "column: year_built\n",
      "column: building_area\n",
      "column: replacement_cost\n",
      "column: building_percent_good\n",
      "column: less_depreciation\n",
      "column: style\n",
      "column: model\n",
      "column: grade\n",
      "column: stories\n",
      "column: occupancy\n",
      "column: exterior_wall_1\n",
      "column: exterior_wall_2\n",
      "column: roof_str\n",
      "column: roof_cover\n",
      "column: interior_wall_1\n",
      "column: interior_wall_2\n",
      "column: interior_flr_1\n",
      "column: interior_flr_2\n",
      "column: heat_fuel\n",
      "column: heat_type\n",
      "column: ac_type\n",
      "column: total_bedrooms\n",
      "column: total_bthrms\n",
      "column: total_half_baths\n",
      "column: total_xtra_fixtrs\n",
      "column: total_rooms\n",
      "column: bath_style\n",
      "column: kitchen_style\n",
      "column: num_kitchens\n",
      "column: cndtn\n",
      "column: interior_condition\n",
      "column: fin_bsmnt_area\n",
      "column: fin_bsmnt_qual\n",
      "column: num_park\n",
      "column: fireplaces\n",
      "column: nbhd_code\n"
     ]
    },
    {
     "ename": "IndexError",
     "evalue": "list index out of range",
     "output_type": "error",
     "traceback": [
      "\u001b[31m---------------------------------------------------------------------------\u001b[39m",
      "\u001b[31mIndexError\u001b[39m                                Traceback (most recent call last)",
      "\u001b[36mCell\u001b[39m\u001b[36m \u001b[39m\u001b[32mIn[3]\u001b[39m\u001b[32m, line 2\u001b[39m\n\u001b[32m      1\u001b[39m properties = []\n\u001b[32m----> \u001b[39m\u001b[32m2\u001b[39m nh_property = \u001b[43mProperty\u001b[49m\u001b[43m(\u001b[49m\u001b[43murl\u001b[49m\u001b[43m=\u001b[49m\u001b[43mnew_haven_url\u001b[49m\u001b[43m,\u001b[49m\u001b[43m \u001b[49m\u001b[43mpid\u001b[49m\u001b[43m=\u001b[49m\u001b[32;43m46\u001b[39;49m\u001b[43m)\u001b[49m\n",
      "\u001b[36mFile \u001b[39m\u001b[32m<string>:13\u001b[39m, in \u001b[36m__init__\u001b[39m\u001b[34m(self, updated_at, pid, longitude, latitude, url, soup)\u001b[39m\n",
      "\u001b[36mFile \u001b[39m\u001b[32m~/Projects/ctcityscraper/schema/property.py:200\u001b[39m, in \u001b[36mProperty.__post_init__\u001b[39m\u001b[34m(self)\u001b[39m\n\u001b[32m    197\u001b[39m \u001b[38;5;28msuper\u001b[39m().__post_init__(data)\n\u001b[32m    199\u001b[39m \u001b[38;5;28mself\u001b[39m.load_property_ownership() \u001b[38;5;66;03m#loads ownership history\u001b[39;00m\n\u001b[32m--> \u001b[39m\u001b[32m200\u001b[39m \u001b[38;5;28;43mself\u001b[39;49m\u001b[43m.\u001b[49m\u001b[43mload_buildings\u001b[49m\u001b[43m(\u001b[49m\u001b[43m)\u001b[49m \u001b[38;5;66;03m#load individual buildings\u001b[39;00m\n\u001b[32m    201\u001b[39m \u001b[38;5;28mself\u001b[39m.load_property_appraisal_assesment() \u001b[38;5;66;03m#loading assessments + appraisal history\u001b[39;00m\n\u001b[32m    203\u001b[39m \u001b[38;5;28;01mdel\u001b[39;00m \u001b[38;5;28mself\u001b[39m.soup\n",
      "\u001b[36mFile \u001b[39m\u001b[32m~/Projects/ctcityscraper/schema/property.py:139\u001b[39m, in \u001b[36mProperty.load_buildings\u001b[39m\u001b[34m(self)\u001b[39m\n\u001b[32m    137\u001b[39m     \u001b[38;5;28;01mexcept\u001b[39;00m:\n\u001b[32m    138\u001b[39m         \u001b[38;5;28;01mpass\u001b[39;00m\n\u001b[32m--> \u001b[39m\u001b[32m139\u001b[39m building = \u001b[43mBuilding\u001b[49m\u001b[43m(\u001b[49m\n\u001b[32m    140\u001b[39m \u001b[43m    \u001b[49m\u001b[43mproperty_uuid\u001b[49m\u001b[43m \u001b[49m\u001b[43m=\u001b[49m\u001b[43m \u001b[49m\u001b[38;5;28;43mstr\u001b[39;49m\u001b[43m(\u001b[49m\u001b[38;5;28;43mself\u001b[39;49m\u001b[43m.\u001b[49m\u001b[43muuid\u001b[49m\u001b[43m)\u001b[49m\u001b[43m,\u001b[49m\n\u001b[32m    141\u001b[39m \u001b[43m    \u001b[49m\u001b[43mpid\u001b[49m\u001b[43m \u001b[49m\u001b[43m=\u001b[49m\u001b[43m \u001b[49m\u001b[38;5;28;43mself\u001b[39;49m\u001b[43m.\u001b[49m\u001b[43mpid\u001b[49m\u001b[43m,\u001b[49m\u001b[43m \u001b[49m\n\u001b[32m    142\u001b[39m \u001b[43m    \u001b[49m\u001b[43mbid\u001b[49m\u001b[43m \u001b[49m\u001b[43m=\u001b[49m\u001b[43m \u001b[49m\u001b[43mi\u001b[49m\u001b[43m,\u001b[49m\u001b[43m \u001b[49m\n\u001b[32m    143\u001b[39m \u001b[43m    \u001b[49m\u001b[43mdata\u001b[49m\u001b[43m \u001b[49m\u001b[43m=\u001b[49m\u001b[43m \u001b[49m\u001b[43mbuilding_columns\u001b[49m\n\u001b[32m    144\u001b[39m \u001b[43m\u001b[49m\u001b[43m)\u001b[49m\n\u001b[32m    146\u001b[39m \u001b[38;5;28mself\u001b[39m.buildings.append(building)\n",
      "\u001b[36mFile \u001b[39m\u001b[32m<string>:6\u001b[39m, in \u001b[36m__init__\u001b[39m\u001b[34m(self, data, property_uuid, pid, bid)\u001b[39m\n",
      "\u001b[36mFile \u001b[39m\u001b[32m~/Projects/ctcityscraper/schema/property_objects.py:48\u001b[39m, in \u001b[36mBase.__post_init__\u001b[39m\u001b[34m(self, data)\u001b[39m\n\u001b[32m     46\u001b[39m     \u001b[38;5;28msetattr\u001b[39m(\u001b[38;5;28mself\u001b[39m, name, \u001b[38;5;28mself\u001b[39m.handle_none(metadata.metadata[\u001b[33m'\u001b[39m\u001b[33mcoerce\u001b[39m\u001b[33m'\u001b[39m](data[col])))\n\u001b[32m     47\u001b[39m \u001b[38;5;28;01melse\u001b[39;00m:\n\u001b[32m---> \u001b[39m\u001b[32m48\u001b[39m     \u001b[38;5;28msetattr\u001b[39m(\u001b[38;5;28mself\u001b[39m, name, \u001b[38;5;28mself\u001b[39m.handle_none(\u001b[43mdata\u001b[49m\u001b[43m[\u001b[49m\u001b[43mcol\u001b[49m\u001b[43m]\u001b[49m))\n\u001b[32m     50\u001b[39m col = col + \u001b[32m1\u001b[39m\n",
      "\u001b[31mIndexError\u001b[39m: list index out of range"
     ]
    }
   ],
   "source": [
    "properties = []\n",
    "nh_property = Property(url=new_haven_url, pid=46)"
   ]
  },
  {
   "cell_type": "code",
   "execution_count": 4,
   "id": "543e7d72-9f0f-42e0-b27b-0d756d2bdd27",
   "metadata": {},
   "outputs": [],
   "source": [
    "li = ['1976', '2,784', '$451,248', '65', '$293,300', 'retail<10th sf', 'commercial', 'above average', '1', '1.00', 'concr/cinder', 'stone', 'gable/hip', 'asphalt', 'drywall/plaste', '', 'ceram clay til', '', 'oil/gas', 'fa/hw/st', 'central', '', 'store/shop  mdl-94', '', '00', '0', '', '3220', 'heat/ac split', 'masonry', 'average', 'sus-ceil & wl', 'average', '12.00', '']"
   ]
  },
  {
   "cell_type": "code",
   "execution_count": 5,
   "id": "8fa4079c-fed1-4a07-b9b6-293e64acad83",
   "metadata": {},
   "outputs": [
    {
     "data": {
      "text/plain": [
       "35"
      ]
     },
     "execution_count": 5,
     "metadata": {},
     "output_type": "execute_result"
    }
   ],
   "source": [
    "len(li)"
   ]
  },
  {
   "cell_type": "code",
   "execution_count": null,
   "id": "12fccac0-8baf-4e81-9e9e-204bf5b6dfcc",
   "metadata": {},
   "outputs": [],
   "source": [
    "df."
   ]
  }
 ],
 "metadata": {
  "kernelspec": {
   "display_name": "Python 3 (ipykernel)",
   "language": "python",
   "name": "python3"
  },
  "language_info": {
   "codemirror_mode": {
    "name": "ipython",
    "version": 3
   },
   "file_extension": ".py",
   "mimetype": "text/x-python",
   "name": "python",
   "nbconvert_exporter": "python",
   "pygments_lexer": "ipython3",
   "version": "3.13.3"
  }
 },
 "nbformat": 4,
 "nbformat_minor": 5
}
