{
 "cells": [
  {
   "cell_type": "code",
   "execution_count": 6,
   "id": "1d99313d-47c7-41a8-a7a6-072490364725",
   "metadata": {},
   "outputs": [],
   "source": [
    "from bs4 import BeautifulSoup\n",
    "import requests\n",
    "import pandas as pd\n",
    "import urllib3\n",
    "import warnings\n",
    "from dataclasses import dataclass, field, asdict\n",
    "import uuid\n",
    "from datetime import datetime\n",
    "\n",
    "urllib3.disable_warnings(urllib3.exceptions.InsecureRequestWarning)\n",
    "warnings.filterwarnings(\"ignore\", category=UserWarning, module=\"bs4\")"
   ]
  },
  {
   "cell_type": "code",
   "execution_count": 7,
   "id": "d3b9f7d7-c04f-49c5-99cb-bd8b0b306971",
   "metadata": {},
   "outputs": [],
   "source": [
    "property_tag_mapping = {\n",
    "    \"MainContent_lblPid\": \"pid\",\n",
    "    \"MainContent_lblAcctNum\": \"account_number\",\n",
    "    \"lblTownName\": \"town_name\",\n",
    "    \"MainContent_lblLocation\": \"address\",\n",
    "    \"MainContent_lblGenOwner\": \"owner\",\n",
    "    \"MainContent_lblAddr1\": \"owner_address\",\n",
    "    \"MainContent_lblCoOwner\": \"co_owner\",\n",
    "    \"MainContent_lblPrice\": \"sale_price\",\n",
    "    \"MainContent_lblSaleDate\": \"sale_date\",\n",
    "    \"MainContent_lblBp\": \"book_page\",\n",
    "    \"MainContent_lblInstrument\": \"label_instrument\",\n",
    "    \"MainContent_lblGenAssessment\": \"assesment_value\",\n",
    "    \"MainContent_lblGenAppraisal\": \"appraisal_value\",\n",
    "    \"MainContent_lblBldCount\": \"building_count\",\n",
    "    \"MainContent_lblUseCodeDescription\": \"building_use\",\n",
    "    \"MainContent_lblAltApproved\": \"land_alt_approved\",\n",
    "    \"MainContent_lblUseCode\": \"land_use_code\",\n",
    "    \"MainContent_lblZone\": \"land_zone\",\n",
    "    \"MainContent_lblNbhd\": \"land_neighborhood_code\",\n",
    "    \"MainContent_lblLndAcres\": \"land_size_acres\",\n",
    "    \"MainContent_lblLndFront\": \"land_frontage\",\n",
    "    \"MainContent_lblDepth\": \"land_depth\",\n",
    "    \"MainContent_lblLndAsmt\": \"land_assessed_value\",\n",
    "    \"MainContent_lblLndAppr\": \"land_appraised_value\"\n",
    "}"
   ]
  },
  {
   "cell_type": "code",
   "execution_count": 8,
   "id": "d85a0c91-87a8-4f99-814f-abb83620e346",
   "metadata": {},
   "outputs": [],
   "source": [
    "new_haven_url = f\"https://gis.vgsi.com/NewHavenCT/Parcel.aspx?pid=\"\n",
    "\n",
    "\n",
    "def get_soup(url, pid):\n",
    "    page = requests.get(url+str(pid), verify=False)\n",
    "    return BeautifulSoup(page.content, \"html.parser\")"
   ]
  },
  {
   "cell_type": "code",
   "execution_count": 9,
   "id": "791fa4f8-cbe9-4cd1-ae72-8061e4ff752e",
   "metadata": {},
   "outputs": [],
   "source": [
    "soup = get_soup(new_haven_url, 300)"
   ]
  },
  {
   "cell_type": "code",
   "execution_count": 35,
   "id": "9c25fe19-72ad-49aa-abd8-5f0652cf2135",
   "metadata": {},
   "outputs": [],
   "source": [
    "def load_property_dict(soup):\n",
    "    \n",
    "    property_tag_mapping = {\n",
    "        \"MainContent_lblPid\": \"pid\",\n",
    "        \"MainContent_lblAcctNum\": \"account_number\",\n",
    "        \"lblTownName\": \"town_name\",\n",
    "        \"MainContent_lblLocation\": \"address\",\n",
    "        \"MainContent_lblGenOwner\": \"owner\",\n",
    "        \"MainContent_lblAddr1\": \"owner_address\",\n",
    "        \"MainContent_lblCoOwner\": \"co_owner\",\n",
    "        \"MainContent_lblPrice\": \"sale_price\",\n",
    "        \"MainContent_lblCertificate\": \"certificate\",\n",
    "        \"MainContent_lblSaleDate\": \"sale_date\",\n",
    "        \"MainContent_lblBp\": \"book_page\",\n",
    "        \"MainContent_lblBookLabel\": \"book_label\",\n",
    "        \"MainContent_lblBook\": \"book\",\n",
    "        \"MainContent_lblPageLabel\": \"page_label\",\n",
    "        \"MainContent_lblPage\": \"page\",\n",
    "        \"MainContent_lblInstrument\": \"label_instrument\",\n",
    "        \"MainContent_lblGenAssessment\": \"assesment_value\",\n",
    "        \"MainContent_lblGenAppraisal\": \"appraisal_value\",\n",
    "        \"MainContent_lblBldCount\": \"building_count\",\n",
    "        \"MainContent_lblUseCodeDescription\": \"building_use\",\n",
    "        \"MainContent_lblAltApproved\": \"land_alt_approved\",\n",
    "        \"MainContent_lblUseCode\": \"land_use_code\",\n",
    "        \"MainContent_lblZone\": \"land_zone\",\n",
    "        \"MainContent_lblNbhd\": \"land_neighborhood_code\",\n",
    "        \"MainContent_lblLndAcres\": \"land_size_acres\",\n",
    "        \"MainContent_lblLndFront\": \"land_frontage\",\n",
    "        \"MainContent_lblDepth\": \"land_depth\",\n",
    "        \"MainContent_lblLndAsmt\": \"land_assessed_value\",\n",
    "        \"MainContent_lblLndAppr\": \"land_appraised_value\"\n",
    "    }\n",
    "\n",
    "    property_dict = {}\n",
    "\n",
    "    for tag in soup.find_all('span'):\n",
    "        try:\n",
    "            property_dict.update({property_tag_mapping[tag['id']]: tag.get_text(separator = ' ', strip = True)})\n",
    "        except KeyError:\n",
    "            pass\n",
    "\n",
    "    return property_dict"
   ]
  },
  {
   "cell_type": "code",
   "execution_count": 36,
   "id": "f055eb20-160b-42e5-9eb1-5785782a0343",
   "metadata": {
    "scrolled": true
   },
   "outputs": [
    {
     "data": {
      "text/plain": [
       "{'town_name': 'New Haven, CT',\n",
       " 'address': '110 ELIZABETH ANN DR',\n",
       " 'account_number': '022 0928 03700',\n",
       " 'owner': 'DEITCH JOSHUA',\n",
       " 'assesment_value': '$172,270',\n",
       " 'appraisal_value': '$246,100',\n",
       " 'pid': '300',\n",
       " 'building_count': '1',\n",
       " 'co_owner': '',\n",
       " 'owner_address': '110 ELIZABETH ANN DR NEW HAVEN, CT 06512',\n",
       " 'sale_price': '$252,000',\n",
       " 'certificate': '',\n",
       " 'book_page': '9597/0069',\n",
       " 'book_label': '',\n",
       " 'book': '',\n",
       " 'page_label': '',\n",
       " 'page': '',\n",
       " 'sale_date': '07/12/2017',\n",
       " 'label_instrument': '00',\n",
       " 'land_use_code': '1040',\n",
       " 'building_use': 'Two Family',\n",
       " 'land_zone': 'RM1',\n",
       " 'land_neighborhood_code': '0300',\n",
       " 'land_alt_approved': 'No',\n",
       " 'land_size_acres': '0.2',\n",
       " 'land_frontage': '69',\n",
       " 'land_depth': '124',\n",
       " 'land_assessed_value': '$54,320',\n",
       " 'land_appraised_value': '$77,600'}"
      ]
     },
     "execution_count": 36,
     "metadata": {},
     "output_type": "execute_result"
    }
   ],
   "source": [
    "property_dict = load_property_dict(soup)\n",
    "property_dict"
   ]
  },
  {
   "cell_type": "code",
   "execution_count": 39,
   "id": "e1c78307-1877-4465-92e6-dc5b1ed9f6a1",
   "metadata": {
    "scrolled": true
   },
   "outputs": [
    {
     "name": "stdout",
     "output_type": "stream",
     "text": [
      "town_name (lblTownName): New Haven, CT\n",
      "DNE (legend): \n",
      "DNE (MainContent_lblTab1Title): 110 ELIZABETH ANN DR\n",
      "DNE (printButton): Print\n",
      "DNE (showMapLinks): Map\n",
      "                                It\n",
      "address (MainContent_lblLocation): 110 ELIZABETH ANN DR\n",
      "DNE (MainContent_lblMbluLabel): Mblu\n",
      "DNE (MainContent_lblMblu): 022/  0928/  03700/  /\n",
      "DNE (MainContent_lblAcctNumLabel): Acct#\n",
      "account_number (MainContent_lblAcctNum): 022 0928 03700\n",
      "owner (MainContent_lblGenOwner): DEITCH JOSHUA\n",
      "DNE (MainContent_lblGenAssessmentLabel): Assessment\n",
      "assesment_value (MainContent_lblGenAssessment): $172,270\n",
      "DNE (MainContent_lblGenAppraisalLabel): Appraisal\n",
      "appraisal_value (MainContent_lblGenAppraisal): $246,100\n",
      "DNE (MainContent_lblPidLabel): PID\n",
      "pid (MainContent_lblPid): 300\n",
      "building_count (MainContent_lblBldCount): 1\n",
      "DNE (MainContent_lblDummyToPlaceSmartLinkInTheRightColumn): \n",
      "DNE (MainContent_lblDummyToPlaceSmartLinkInTheRightColumnText): \n",
      "DNE (MainContent_lblTab2Title): Owner of Record\n",
      "DNE (MainContent_lblOwner): DEITCH JOSHUA\n",
      "DNE (MainContent_lblLabelCoOwner): Co-Owner\n",
      "co_owner (MainContent_lblCoOwner): \n",
      "owner_address (MainContent_lblAddr1): 110 ELIZABETH ANN DR NEW HAVEN, CT 06512\n",
      "sale_price (MainContent_lblPrice): $252,000\n",
      "DNE (MainContent_lblLabelCertificate): Certificate\n",
      "DNE (MainContent_lblCertificate): \n",
      "book_page (MainContent_lblBp): 9597/0069\n",
      "DNE (MainContent_lblBookLabel): \n",
      "DNE (MainContent_lblBook): \n",
      "DNE (MainContent_lblPageLabel): \n",
      "DNE (MainContent_lblPage): \n",
      "sale_date (MainContent_lblSaleDate): 07/12/2017\n",
      "DNE (MainContent_lblLabelInstrument): Instrument\n",
      "label_instrument (MainContent_lblInstrument): 00\n",
      "DNE (MainContent_ctl02_lblHeading): Building 1 : Section 1\n",
      "DNE (MainContent_ctl02_lblYearBuilt): 1965\n",
      "DNE (MainContent_ctl02_lblBldArea): 1,749\n",
      "DNE (MainContent_ctl02_lblRcn): $203,041\n",
      "DNE (MainContent_ctl02_lblPctGood): 78\n",
      "DNE (MainContent_ctl02_lblRcnld): $158,400\n",
      "land_use_code (MainContent_lblUseCode): 1040\n",
      "building_use (MainContent_lblUseCodeDescription): Two Family\n",
      "DNE (LegendLnd): \n",
      "DNE (MainContent_lblZoneLbl): Zone\n",
      "land_zone (MainContent_lblZone): RM1\n",
      "land_neighborhood_code (MainContent_lblNbhd): 0300\n",
      "DNE (MainContent_lblAltApprovedLabel): Alt Land Appr\n",
      "land_alt_approved (MainContent_lblAltApproved): No\n",
      "DNE (MainContent_lblLndCategoryLabel): Category\n",
      "DNE (MainContent_lblLndCategory): \n",
      "land_size_acres (MainContent_lblLndAcres): 0.2\n",
      "land_frontage (MainContent_lblLndFront): 69\n",
      "land_depth (MainContent_lblDepth): 124\n",
      "land_assessed_value (MainContent_lblLndAsmt): $54,320\n",
      "land_appraised_value (MainContent_lblLndAppr): $77,600\n"
     ]
    }
   ],
   "source": [
    "for i in soup.find_all('span'):\n",
    "    try:\n",
    "        tag = property_tag_mapping[i['id']]\n",
    "    except:\n",
    "        tag = 'DNE'\n",
    "    try:\n",
    "        print(tag + \" (\" + i['id'] + \"): \" + i.get_text(separator = ' ', strip = True))\n",
    "    except:\n",
    "        pass"
   ]
  },
  {
   "cell_type": "code",
   "execution_count": 105,
   "id": "3b459a41-c07a-4a05-bc99-595ea02328fe",
   "metadata": {},
   "outputs": [
    {
     "name": "stdout",
     "output_type": "stream",
     "text": [
      "owner\n",
      "sale_price\n",
      "certificate\n",
      "book_and_page\n",
      "instrument\n",
      "sale_date\n",
      "deitch joshua\n",
      "$252,000\n",
      "\n",
      "9597/0069\n",
      "00\n",
      "07/12/2017\n"
     ]
    }
   ],
   "source": [
    "for tag in soup.find('table', id=\"MainContent_grdSales\").find_all('tr'):\n",
    "    for th in tag.find_all('th'):\n",
    "        print(th.get_text(separator = ' ', strip = True).replace('&', 'and').lower().replace(' ', '_'))\n",
    "\n",
    "for tag in soup.find('table', id=\"MainContent_grdSales\").find_all('tr')[1].find_all('td'):\n",
    "    print(tag.get_text(separator = ' ', strip = True).replace('&', 'and').lower())"
   ]
  },
  {
   "cell_type": "code",
   "execution_count": 113,
   "id": "62cf57ff-2708-4dd8-a3f1-3e0a12bafbbc",
   "metadata": {},
   "outputs": [
    {
     "data": {
      "text/plain": [
       "<tr class=\"RowStyle\">\n",
       "<td>DEITCH JOSHUA</td><td align=\"right\">$252,000</td><td align=\"center\"> </td><td align=\"center\">9597/0069</td><td align=\"center\">00</td><td align=\"center\">07/12/2017</td>\n",
       "</tr>"
      ]
     },
     "execution_count": 113,
     "metadata": {},
     "output_type": "execute_result"
    }
   ],
   "source": [
    "soup.find('table', id=\"MainContent_grdSales\").find_all('tr')[1]"
   ]
  },
  {
   "cell_type": "code",
   "execution_count": 107,
   "id": "cf515926-69d7-4701-82f8-75e8499855b0",
   "metadata": {},
   "outputs": [
    {
     "data": {
      "text/plain": [
       "'tag'"
      ]
     },
     "execution_count": 107,
     "metadata": {},
     "output_type": "execute_result"
    }
   ],
   "source": [
    "table_tag.format(\"tag2\")"
   ]
  },
  {
   "cell_type": "code",
   "execution_count": 108,
   "id": "5c7b5388-186c-4f3c-a658-0ae734ed376c",
   "metadata": {},
   "outputs": [],
   "source": [
    "h = None"
   ]
  },
  {
   "cell_type": "code",
   "execution_count": 109,
   "id": "ba25f05b-268e-4ba8-85ba-2ad6718adbed",
   "metadata": {},
   "outputs": [],
   "source": [
    "if h:\n",
    "    print(\"dumbass\")"
   ]
  },
  {
   "cell_type": "code",
   "execution_count": null,
   "id": "b8e26fcf-cb60-45a7-b979-6188501dc8a4",
   "metadata": {},
   "outputs": [],
   "source": []
  }
 ],
 "metadata": {
  "kernelspec": {
   "display_name": "Python 3 (ipykernel)",
   "language": "python",
   "name": "python3"
  },
  "language_info": {
   "codemirror_mode": {
    "name": "ipython",
    "version": 3
   },
   "file_extension": ".py",
   "mimetype": "text/x-python",
   "name": "python",
   "nbconvert_exporter": "python",
   "pygments_lexer": "ipython3",
   "version": "3.13.3"
  }
 },
 "nbformat": 4,
 "nbformat_minor": 5
}
